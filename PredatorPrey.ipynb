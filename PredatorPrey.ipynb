{
 "cells": [
  {
   "cell_type": "markdown",
   "metadata": {},
   "source": [
    "# Predator-Prey model\n",
    "\n",
    "This code will produce a time-course and phase portrait for the dynamics of a predator and its prey. The dynamics are governed by the following ordinary differential equations:\n",
    "\\begin{equation*}\n",
    "\\frac{dN}{dt}=N\\left(a−\\frac{bP}{N+A}−αN\\right)\\\\\n",
    "\\frac{dP}{dt}=P\\left(−c+\\frac{dN}{N+A}\\right)\n",
    "\\end{equation*}\n",
    "\n",
    "\n",
    "Use the sliders to choose the values of the 6 parameters, and boxes for you to enter two lots of initial conditions for $N$ and $P$. When you have chosen your values click on 'Run Interact' and you will see two plots appear - a time course for the Prey and the Predator, and a phase portrait (including nullclines (red/black) and 2 trajectories (blue/green)). \n",
    "\n",
    "The default values lead to a stable spiral into a coexistence equilibrium. Try reducing the value of $\\alpha$ to see the limit cycle emerge."
   ]
  },
  {
   "cell_type": "code",
   "execution_count": 1,
   "metadata": {},
   "outputs": [
    {
     "name": "stderr",
     "output_type": "stream",
     "text": [
      "Enabling notebook extension jupyter-js-widgets/extension...\n",
      "      - Validating: ok\n",
      "Enabling: voila\n",
      "- Writing config: c:\\users\\alex\\documents\\github\\attemptone\\venv_name\\etc\\jupyter\n",
      "    - Validating...\n",
      "      voila 0.3.0 ok\n"
     ]
    }
   ],
   "source": [
    "#!jupyter nbextension enable --py widgetsnbextension --sys-prefix\n",
    "#!jupyter serverextension enable --sys-prefix voila"
   ]
  },
  {
   "cell_type": "code",
   "execution_count": 8,
   "metadata": {},
   "outputs": [
    {
     "data": {
      "application/vnd.jupyter.widget-view+json": {
       "model_id": "7385323276754c049c8a9e1288340100",
       "version_major": 2,
       "version_minor": 0
      },
      "text/plain": [
       "FloatSlider(value=4.0, description='alpha', max=5.0, step=0.25)"
      ]
     },
     "metadata": {},
     "output_type": "display_data"
    },
    {
     "data": {
      "application/vnd.jupyter.widget-view+json": {
       "model_id": "18e5fe3f1ade4e1ba4e586e606311a96",
       "version_major": 2,
       "version_minor": 0
      },
      "text/plain": [
       "FloatSlider(value=1.0, description='A', max=5.0, step=0.25)"
      ]
     },
     "metadata": {},
     "output_type": "display_data"
    },
    {
     "data": {
      "application/vnd.jupyter.widget-view+json": {
       "model_id": "cda504449c71475188311441297fdc1c",
       "version_major": 2,
       "version_minor": 0
      },
      "text/plain": [
       "FloatSlider(value=4.0, description='a', max=5.0, step=0.25)"
      ]
     },
     "metadata": {},
     "output_type": "display_data"
    },
    {
     "data": {
      "application/vnd.jupyter.widget-view+json": {
       "model_id": "85cd43aae21040c8843ce34ba4a23659",
       "version_major": 2,
       "version_minor": 0
      },
      "text/plain": [
       "FloatSlider(value=1.0, description='b', max=5.0, step=0.25)"
      ]
     },
     "metadata": {},
     "output_type": "display_data"
    },
    {
     "data": {
      "application/vnd.jupyter.widget-view+json": {
       "model_id": "b1fc99bf505e4f4f9f405ef14fb7febd",
       "version_major": 2,
       "version_minor": 0
      },
      "text/plain": [
       "FloatSlider(value=0.5, description='c', max=5.0, step=0.25)"
      ]
     },
     "metadata": {},
     "output_type": "display_data"
    },
    {
     "data": {
      "application/vnd.jupyter.widget-view+json": {
       "model_id": "7f8dff920e9d4b4d86c1bc3b852e4bc5",
       "version_major": 2,
       "version_minor": 0
      },
      "text/plain": [
       "FloatSlider(value=2.0, description='d', max=5.0, step=0.25)"
      ]
     },
     "metadata": {},
     "output_type": "display_data"
    },
    {
     "data": {
      "application/vnd.jupyter.widget-view+json": {
       "model_id": "9c663ebe1a614ffb9e72b99633327489",
       "version_major": 2,
       "version_minor": 0
      },
      "text/plain": [
       "HBox(children=(BoundedFloatText(value=1.5, description='1st N(0)', max=5.0), BoundedFloatText(value=6.0, descr…"
      ]
     },
     "metadata": {},
     "output_type": "display_data"
    },
    {
     "data": {
      "application/vnd.jupyter.widget-view+json": {
       "model_id": "e2e677c07b554ccf86923458e45f3fa5",
       "version_major": 2,
       "version_minor": 0
      },
      "text/plain": [
       "HBox(children=(BoundedFloatText(value=0.5, description='2nd N(0)', max=5.0), BoundedFloatText(value=4.0, descr…"
      ]
     },
     "metadata": {},
     "output_type": "display_data"
    },
    {
     "data": {
      "application/vnd.jupyter.widget-view+json": {
       "model_id": "df456fb096004f7ba96410203487ca7b",
       "version_major": 2,
       "version_minor": 0
      },
      "text/plain": [
       "interactive(children=(Button(description='Run Interact', style=ButtonStyle()), Output()), _dom_classes=('widge…"
      ]
     },
     "metadata": {},
     "output_type": "display_data"
    },
    {
     "data": {
      "text/plain": [
       "<function __main__.runpredprey()>"
      ]
     },
     "execution_count": 8,
     "metadata": {},
     "output_type": "execute_result"
    }
   ],
   "source": [
    "#@title\n",
    "# Import the necessary libraries\n",
    "import numpy as np\n",
    "import matplotlib.pyplot as plt\n",
    "from scipy.integrate import odeint\n",
    "import ipywidgets as widgets\n",
    "from ipywidgets import interact_manual\n",
    "\n",
    "aw=widgets.FloatSlider(min=0, max=5, step=0.25, value=4, description='a')\n",
    "bw=widgets.FloatSlider(min=0, max=5, step=0.25, value=1, description ='b')\n",
    "cw=widgets.FloatSlider(min=0, max=5, step=0.25, value=0.5,description='c')\n",
    "dw=widgets.FloatSlider(min=0, max=5, step=0.25, value=2,description='d')\n",
    "alphaw=widgets.FloatSlider(min=0, max=5, step=0.25, value=4,description='alpha')\n",
    "Aw=widgets.FloatSlider(min=0, max=5, step=0.25, value=1,description='A')\n",
    "\n",
    "N0_1=widgets.BoundedFloatText(value=1.5,min=0,max=5,description='1st N(0)')\n",
    "P0_1=widgets.BoundedFloatText(value=6,min=0,max=10,description='1st P(0)')\n",
    "N0_2=widgets.BoundedFloatText(value=0.5,min=0,max=5,description='2nd N(0)')\n",
    "P0_2=widgets.BoundedFloatText(value=4,min=0,max=10,description='2nd P(0)')\n",
    "\n",
    "u1 = widgets.HBox([N0_1, P0_1])\n",
    "u2 = widgets.HBox([N0_2, P0_2])\n",
    "\n",
    "#Lotka-Volterra dynamics\n",
    "def predprey(x,t,a,b,c,d,alpha,A):\n",
    "    N=x[0]\n",
    "    P=x[1]\n",
    "    dN = N*(a-b*P/(N+A)-alpha*N)\n",
    "    dP = P*(-c+d*N/(N+A))\n",
    "    return [dN,dP]\n",
    "\n",
    "def runpredprey():\n",
    "    a=aw.value\n",
    "    b=bw.value\n",
    "    c=cw.value\n",
    "    d=dw.value\n",
    "    alpha=alphaw.value\n",
    "    A=Aw.value\n",
    "    \n",
    "    N0=[N0_1.value,P0_1.value]\n",
    "    N1=[N0_2.value,P0_2.value]\n",
    "\n",
    "    tc = np.linspace(0, 50, 1000)  \n",
    "    Nc = odeint(predprey, N0, tc,args=(a,b,c,d,alpha,A))\n",
    "    Nd = odeint(predprey, N1, tc,args=(a,b,c,d,alpha,A))\n",
    "    \n",
    "    plt.rcParams['figure.figsize'] = [12, 4]#\n",
    "    plt.rcParams.update({'font.size': 16})\n",
    "    fig, (ax1, ax2) = plt.subplots(1, 2)\n",
    "    \n",
    "    ax1.plot(tc, Nc[:,0], \"r\", label=\"Prey\") \n",
    "    ax1.plot(tc, Nc[:,1], \"k\", label=\"Predators\")\n",
    "    ax1.plot(tc, Nd[:,0], \"r:\")\n",
    "    ax1.plot(tc, Nd[:,1], \"k:\")\n",
    "    ax1.set(xlabel='Time', ylabel='Densities')\n",
    "    ax1.legend()\n",
    "    ax1.axis([0,50,0,10])\n",
    "\n",
    "    nn=np.linspace(0,10,100)\n",
    "    nnull=(a-alpha*nn)*(nn+A)/b\n",
    "    pnull=A*c/(d-c)\n",
    "    ax2.plot(Nc[:,0],Nc[:,1],'b')\n",
    "    ax2.plot(Nd[:,0],Nd[:,1],'g')\n",
    "    ax2.plot(nn,nnull,'r')\n",
    "    ax2.axvline(x=pnull)\n",
    "    ax2.axis([0, 5, 0, 5])\n",
    "    ax2.set(xlabel='Prey', ylabel='Predators')\n",
    "    ax2.axis([0,2,0,10])\n",
    "    return()\n",
    "\n",
    "display(alphaw,Aw)\n",
    "display(aw,bw,cw,dw)\n",
    "display(u1,u2)\n",
    "interact_manual(runpredprey,text='Run model')      \n"
   ]
  },
  {
   "cell_type": "code",
   "execution_count": null,
   "metadata": {},
   "outputs": [],
   "source": []
  }
 ],
 "metadata": {
  "kernelspec": {
   "display_name": "Python 3",
   "language": "python",
   "name": "python3"
  },
  "language_info": {
   "codemirror_mode": {
    "name": "ipython",
    "version": 3
   },
   "file_extension": ".py",
   "mimetype": "text/x-python",
   "name": "python",
   "nbconvert_exporter": "python",
   "pygments_lexer": "ipython3",
   "version": "3.6.4"
  }
 },
 "nbformat": 4,
 "nbformat_minor": 2
}
